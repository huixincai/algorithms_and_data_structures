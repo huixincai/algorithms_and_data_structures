{
 "cells": [
  {
   "cell_type": "markdown",
   "metadata": {},
   "source": [
    "# Practice Interview\n",
    "\n",
    "## Objective\n",
    "\n",
    "_*The partner assignment aims to provide participants with the opportunity to practice coding in an interview context. You will analyze your partner's Assignment 1. Moreover, code reviews are common practice in a software development team. This assignment should give you a taste of the code review process.*_\n",
    "\n",
    "## Group Size\n",
    "\n",
    "Each group should have 2 people. You will be assigned a partner\n",
    "\n",
    "## Part 1:\n",
    "\n",
    "You and your partner must share each other's Assignment 1 submission."
   ]
  },
  {
   "cell_type": "markdown",
   "metadata": {},
   "source": [
    "\n",
    "## Part 2:\n",
    "\n",
    "Create a Jupyter Notebook, create 6 of the following headings, and complete the following for your partner's assignment 1:\n",
    "\n",
    "-   Paraphrase the problem in your own words.\n"
   ]
  },
  {
   "cell_type": "markdown",
   "metadata": {},
   "source": [
    "Given a binary tree, find the first duplicate value encountered when traversing the tree. Return the value of this first duplicate. If there are multiple duplicates, return the one that appears closest to the root. If no duplicates are found, return -1."
   ]
  },
  {
   "cell_type": "markdown",
   "metadata": {},
   "source": [
    "\n",
    "-   Create 1 new example that demonstrates you understand the problem. Trace/walkthrough 1 example that your partner made and explain it.\n"
   ]
  },
  {
   "cell_type": "code",
   "execution_count": 4,
   "metadata": {},
   "outputs": [
    {
     "name": "stdout",
     "output_type": "stream",
     "text": [
      "5\n"
     ]
    }
   ],
   "source": [
    "# My example \n",
    "\n",
    "      5\n",
    "     / \\\n",
    "    3   8\n",
    "   / \\   \\\n",
    "  1   4   5\n",
    "\n",
    "# Tree Representation:\n",
    "\n",
    "# The root node is 5.\n",
    "# The left child of the root is 3.\n",
    "# The right child of the root is 8.\n",
    "# The left child of 3 is 1.\n",
    "# The right child of 3 is 4.\n",
    "# The right child of 8 is 5.\n",
    "# Input: root = [5, 3, 8, 1, 4, None, 5]\n",
    "\n",
    "# Output: 5\n",
    "\n",
    "# Explanation:\n",
    "\n",
    "# Start at the root node with value 5.\n",
    "# Traverse to the left child (3), then to its left child (1). No duplicates found.\n",
    "# Traverse back to 3 and then to its right child (4). No duplicates found.\n",
    "# Traverse back to the root (5) and then to its right child (8).\n",
    "# Traverse to the right child of 8, which is 5. This value has been seen before.\n",
    "# The first duplicate found is 5.\n",
    "\n",
    "class TreeNode(object):\n",
    "    def __init__(self, val = 0, left = None, right = None):\n",
    "        self.val = val\n",
    "        self.left = left\n",
    "        self.right = right\n",
    "def is_duplicate(root: TreeNode) -> int:\n",
    "    def find_duplicate(node, visited): #current node, track of values of nodes that have been visited\n",
    "        if not node: \n",
    "            return -1 \n",
    "        \n",
    "        if node.val in visited: \n",
    "            return node.val \n",
    "        \n",
    "        visited.add(node.val)\n",
    "        \n",
    "        left_duplicate = find_duplicate(node.left, visited)\n",
    "        if left_duplicate != -1:\n",
    "            return left_duplicate\n",
    "        \n",
    "        right_duplicate = find_duplicate(node.right, visited)\n",
    "        if right_duplicate != -1:\n",
    "            return right_duplicate\n",
    "        \n",
    "        return -1  # No duplicates found in subtree\n",
    "    \n",
    "    visited = set()\n",
    "    return find_duplicate(root, visited)\n",
    "# Create a sample binary tree\n",
    "root = TreeNode(5)\n",
    "root.left = TreeNode(3)\n",
    "root.right = TreeNode(8)\n",
    "root.left.left = TreeNode(1)\n",
    "root.left.right = TreeNode(4)\n",
    "root.right.left = TreeNode(5)\n",
    "\n",
    "\n",
    "#Testing the function\n",
    "print(is_duplicate(root)) \n",
    "\n",
    "\n",
    "\n"
   ]
  },
  {
   "cell_type": "markdown",
   "metadata": {},
   "source": [
    "\n",
    "-   Copy the solution your partner wrote. \n"
   ]
  },
  {
   "cell_type": "code",
   "execution_count": 1,
   "metadata": {},
   "outputs": [
    {
     "name": "stdout",
     "output_type": "stream",
     "text": [
      "10\n"
     ]
    }
   ],
   "source": [
    "class TreeNode(object):\n",
    "    def __init__(self, val = 0, left = None, right = None):\n",
    "        self.val = val\n",
    "        self.left = left\n",
    "        self.right = right\n",
    "def is_duplicate(root: TreeNode) -> int:\n",
    "    def find_duplicate(node, visited): #current node, track of values of nodes that have been visited\n",
    "        if not node: \n",
    "            return -1 \n",
    "        \n",
    "        if node.val in visited: \n",
    "            return node.val \n",
    "        \n",
    "        visited.add(node.val)\n",
    "        \n",
    "        left_duplicate = find_duplicate(node.left, visited)\n",
    "        if left_duplicate != -1:\n",
    "            return left_duplicate\n",
    "        \n",
    "        right_duplicate = find_duplicate(node.right, visited)\n",
    "        if right_duplicate != -1:\n",
    "            return right_duplicate\n",
    "        \n",
    "        return -1  # No duplicates found in subtree\n",
    "    \n",
    "    visited = set()\n",
    "    return find_duplicate(root, visited)\n",
    "# Create a sample binary tree\n",
    "root = TreeNode(1)\n",
    "root.left = TreeNode(10)\n",
    "root.right = TreeNode(2)\n",
    "root.left.left = TreeNode(3)\n",
    "root.left.right = TreeNode(10)\n",
    "root.right.left = TreeNode(12)\n",
    "root.right.right = TreeNode(12)\n",
    "\n",
    "#Testing the function\n",
    "print(is_duplicate(root)) "
   ]
  },
  {
   "cell_type": "markdown",
   "metadata": {},
   "source": [
    "\n",
    "-   Explain why their solution works in your own words.\n"
   ]
  },
  {
   "cell_type": "markdown",
   "metadata": {},
   "source": [
    "The solution works by using a depth-first search (DFS) to traverse the tree. It keeps track of visited node values in a set. When it encounters a node value that has already been visited, it returns that value as the first duplicate found. This ensures the solution finds the duplicate closest to the root. If no duplicates are found, it returns -1."
   ]
  },
  {
   "cell_type": "markdown",
   "metadata": {},
   "source": [
    "\n",
    "-   Explain the problem’s time and space complexity in your own words.\n"
   ]
  },
  {
   "cell_type": "markdown",
   "metadata": {},
   "source": [
    "Time Complexity:\n",
    "The time complexity is O(n), where n is the number of nodes in the binary tree. This is because each node is visited exactly once during the traversal.\n",
    "\n",
    "Space Complexity:\n",
    "The space complexity is O(n) due to the space needed to store the set of visited nodes and the recursion stack, which in the worst case can grow to the number of nodes in the tree."
   ]
  },
  {
   "cell_type": "markdown",
   "metadata": {},
   "source": [
    "\n",
    "-   Critique your partner's solution, including explanation, and if there is anything that should be adjusted.\n"
   ]
  },
  {
   "cell_type": "markdown",
   "metadata": {},
   "source": [
    "My partners solution efficient and correctly implemented using DFS. It accurately tracks visited nodes and identifies duplicates. However, the code could be improved by adding more comments to explain each step and by handling edge cases like an empty tree more explicitly."
   ]
  },
  {
   "cell_type": "markdown",
   "metadata": {},
   "source": [
    "\n",
    "## Part 3:\n",
    "\n",
    "Please write a 200 word reflection documenting your process from assignment 1, and your presentation and review experience with your partner at the bottom of the Jupyter Notebook under a new heading \"Reflection.\" Again, export this Notebook as pdf.\n"
   ]
  },
  {
   "cell_type": "markdown",
   "metadata": {},
   "source": [
    "### Reflection"
   ]
  },
  {
   "cell_type": "markdown",
   "metadata": {},
   "source": [
    "During this practice interview, I learned the importance of a structured approach to coding interviews. The first crucial step is understanding the question thoroughly. Rephrasing the question in my own words and checking this understanding with the interviewer ensures clarity and prevents miscommunication. Creating an example helps me internalize the problem and use it as a reference point during the discussion.\n",
    "\n",
    "Considering edge cases and analyzing the time and space complexity of my solution are vital next steps. This demonstrates my ability to think critically about all possible scenarios and the efficiency of my code, which is a significant part of the evaluation.\n",
    "\n",
    "Effective communication throughout the interview is equally important. Providing the correct code is not enough; I must also clearly explain my thought process and reasoning. Good communication showcases my problem-solving skills and ability to articulate my approach, which are essential in a collaborative work environment.\n",
    "\n",
    "Overall, this experience highlighted the importance of a comprehensive approach: understanding the problem, illustrating it with examples, considering edge cases, analyzing complexity, and communicating effectively."
   ]
  },
  {
   "cell_type": "markdown",
   "metadata": {},
   "source": [
    "\n",
    "## Evaluation Criteria\n",
    "\n",
    "We are looking for the similar points as Assignment 1\n",
    "\n",
    "-   Problem is accurately stated\n",
    "\n",
    "-   New example is correct and easily understandable\n",
    "\n",
    "-   Correctness, time, and space complexity of the coding solution\n",
    "\n",
    "-   Clarity in explaining why the solution works, its time and space complexity\n",
    "\n",
    "-   Quality of critique of your partner's assignment, if necessary\n"
   ]
  },
  {
   "cell_type": "markdown",
   "metadata": {},
   "source": [
    "## Submission Information\n",
    "\n",
    "🚨 **Please review our [Assignment Submission Guide](https://github.com/UofT-DSI/onboarding/blob/main/onboarding_documents/submissions.md)** 🚨 for detailed instructions on how to format, branch, and submit your work. Following these guidelines is crucial for your submissions to be evaluated correctly.\n",
    "\n",
    "### Submission Parameters:\n",
    "* Submission Due Date: `HH:MM AM/PM - DD/MM/YYYY`\n",
    "* The branch name for your repo should be: `assignment-2`\n",
    "* What to submit for this assignment:\n",
    "    * This Jupyter Notebook (assignment_2.ipynb) should be populated and should be the only change in your pull request.\n",
    "* What the pull request link should look like for this assignment: `https://github.com/<your_github_username>/algorithms_and_data_structures/pull/<pr_id>`\n",
    "    * Open a private window in your browser. Copy and paste the link to your pull request into the address bar. Make sure you can see your pull request properly. This helps the technical facilitator and learning support staff review your submission easily.\n",
    "\n",
    "Checklist:\n",
    "- [ ] Created a branch with the correct naming convention.\n",
    "- [ ] Ensured that the repository is public.\n",
    "- [ ] Reviewed the PR description guidelines and adhered to them.\n",
    "- [ ] Verify that the link is accessible in a private browser window.\n",
    "\n",
    "If you encounter any difficulties or have questions, please don't hesitate to reach out to our team via our Slack at `#cohort-3-help`. Our Technical Facilitators and Learning Support staff are here to help you navigate any challenges.\n"
   ]
  }
 ],
 "metadata": {
  "kernelspec": {
   "display_name": "dsi_participant",
   "language": "python",
   "name": "python3"
  },
  "language_info": {
   "codemirror_mode": {
    "name": "ipython",
    "version": 3
   },
   "file_extension": ".py",
   "mimetype": "text/x-python",
   "name": "python",
   "nbconvert_exporter": "python",
   "pygments_lexer": "ipython3",
   "version": "3.9.15"
  }
 },
 "nbformat": 4,
 "nbformat_minor": 2
}
